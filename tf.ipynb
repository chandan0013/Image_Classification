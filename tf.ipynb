{
 "cells": [
  {
   "cell_type": "code",
   "execution_count": 1,
   "metadata": {
    "slideshow": null
   },
   "outputs": [],
   "source": [
    "import seaborn as sns\n",
    "sns.set()"
   ]
  },
  {
   "cell_type": "code",
   "execution_count": 2,
   "metadata": {
    "slideshow": null
   },
   "outputs": [],
   "source": [
    "from static_grader import grader"
   ]
  },
  {
   "cell_type": "markdown",
   "metadata": {
    "slideshow": null
   },
   "source": [
    "# Image Classification with TensorFlow"
   ]
  },
  {
   "cell_type": "markdown",
   "metadata": {
    "slideshow": null
   },
   "source": [
    "Image classification is a common task for deep learning and neural networks.  The raw features coming in are the pixel values.  These are simple enough to deal with, but it is difficult to connect pixel values to determining whether an image is of a cat.  Older methods used a lot of clever filters, but the current best-of-breed algorithms simply throw a lot of linear algebra at the problem.\n",
    "\n",
    "In this miniproject, you build a series of models to classify a series of images into one of ten classes. For expediency, these images are pretty small ($32\\times32\\times3$).  This can make classification a bit tricky&mdash;human performance is only about 94%.  Each of your models will be scored by comparing its accuracy to the accuracy of a reference model that we developed.  A score of 1 indicates that your model performs as well as the reference model; not that your accuracy is 100%!\n",
    "\n",
    "You will be given both a training set and a validation set.  Ground truth values are provided for the training set.  You should train your models on this set, and then make predictions for each of the validation images.  These predictions will be submitted to the grader."
   ]
  },
  {
   "cell_type": "markdown",
   "metadata": {
    "slideshow": null
   },
   "source": [
    "## A note on scoring"
   ]
  },
  {
   "cell_type": "markdown",
   "metadata": {
    "slideshow": null
   },
   "source": [
    "It **is** possible to score above 1 on these questions. This indicates that you've beaten our reference model&mdash;we compare our model's score on a test set to your score on a test set. See how high you can go!"
   ]
  },
  {
   "cell_type": "markdown",
   "metadata": {
    "slideshow": null
   },
   "source": [
    "## Downloading the data"
   ]
  },
  {
   "cell_type": "markdown",
   "metadata": {
    "slideshow": null
   },
   "source": [
    "We will be using the `CIFAR-10` data set.  It consists of 60,000 images, each $32\\times32$ color pixels, each belonging to one of ten classes.  The following cell will download the data, in NumPy's `.npy` format."
   ]
  },
  {
   "cell_type": "code",
   "execution_count": 3,
   "metadata": {
    "slideshow": null
   },
   "outputs": [
    {
     "name": "stdout",
     "output_type": "stream",
     "text": [
      "download: s3://dataincubator-course/cifar10/train_labels.npy to ./train_labels.npy\n",
      "download: s3://dataincubator-course/cifar10/validation_images.npy to ./validation_images.npy\n",
      "download: s3://dataincubator-course/cifar10/train_images.npy to ./train_images.npy\n"
     ]
    }
   ],
   "source": [
    "!aws s3 sync s3://dataincubator-course/cifar10/ ."
   ]
  },
  {
   "cell_type": "markdown",
   "metadata": {
    "slideshow": null
   },
   "source": [
    "We can load in the data like so:"
   ]
  },
  {
   "cell_type": "code",
   "execution_count": 4,
   "metadata": {
    "slideshow": null
   },
   "outputs": [],
   "source": [
    "import numpy as np\n",
    "\n",
    "train_images = np.load(open('train_images.npy', 'rb'))\n",
    "train_labels = np.load(open('train_labels.npy', 'rb'))\n",
    "validation_images = np.load(open('validation_images.npy', 'rb'))"
   ]
  },
  {
   "cell_type": "code",
   "execution_count": 96,
   "metadata": {},
   "outputs": [
    {
     "data": {
      "text/plain": [
       "10000"
      ]
     },
     "execution_count": 96,
     "metadata": {},
     "output_type": "execute_result"
    }
   ],
   "source": [
    "len(validation_images)"
   ]
  },
  {
   "cell_type": "markdown",
   "metadata": {
    "slideshow": null
   },
   "source": [
    "The images are stored as four-dimensional arrays.  The first index indicates the image number, the second and third the $x$ and $y$ positions, and the fourth index the color channel.  Each pixel color is a floating point number between 0 and 1.  This convention allows us to view the images with matplotlib:"
   ]
  },
  {
   "cell_type": "code",
   "execution_count": 65,
   "metadata": {
    "scrolled": true,
    "slideshow": null
   },
   "outputs": [
    {
     "data": {
      "text/plain": [
       "<matplotlib.image.AxesImage at 0x7f432c7ba110>"
      ]
     },
     "execution_count": 65,
     "metadata": {},
     "output_type": "execute_result"
    },
    {
     "data": {
      "image/png": "[encoded data removed]",
      "text/plain": [
       "<Figure size 432x288 with 1 Axes>"
      ]
     },
     "metadata": {},
     "output_type": "display_data"
    }
   ],
   "source": [
    "import matplotlib.pyplot as plt\n",
    "plt.rcParams[\"axes.grid\"] = False  #  Remove the grid lines from the image.\n",
    "plt.imshow(train_images[6])"
   ]
  },
  {
   "cell_type": "markdown",
   "metadata": {
    "slideshow": null
   },
   "source": [
    "The classes have already been numbered 0-9 for us; those numbers are stored in the vector `train_labels`."
   ]
  },
  {
   "cell_type": "code",
   "execution_count": 66,
   "metadata": {
    "slideshow": null
   },
   "outputs": [
    {
     "data": {
      "text/plain": [
       "2"
      ]
     },
     "execution_count": 66,
     "metadata": {},
     "output_type": "execute_result"
    }
   ],
   "source": [
    "train_labels[6]"
   ]
  },
  {
   "cell_type": "markdown",
   "metadata": {
    "slideshow": null
   },
   "source": [
    "The human-readable names associated with this classes are"
   ]
  },
  {
   "cell_type": "code",
   "execution_count": 10,
   "metadata": {
    "slideshow": null
   },
   "outputs": [],
   "source": [
    "label_names = ['airplane', 'automobile', 'bird', 'cat', 'deer',\n",
    "               'dog', 'frog', 'horse', 'ship', 'truck']"
   ]
  },
  {
   "cell_type": "code",
   "execution_count": 67,
   "metadata": {
    "slideshow": null
   },
   "outputs": [
    {
     "data": {
      "text/plain": [
       "'bird'"
      ]
     },
     "execution_count": 67,
     "metadata": {},
     "output_type": "execute_result"
    }
   ],
   "source": [
    "label_names[train_labels[6]]"
   ]
  },
  {
   "cell_type": "markdown",
   "metadata": {
    "slideshow": null
   },
   "source": [
    "So we can see that the image above is a frog.  (Now you see it!)"
   ]
  },
  {
   "cell_type": "markdown",
   "metadata": {
    "slideshow": null
   },
   "source": [
    "# Questions"
   ]
  },
  {
   "cell_type": "markdown",
   "metadata": {
    "slideshow": null
   },
   "source": [
    "## Perceptual Delta"
   ]
  },
  {
   "cell_type": "markdown",
   "metadata": {
    "slideshow": null
   },
   "source": [
    "Since we already have a number of labeled images, a simple approach would be to measure the difference between two images, and choose the label corresponding to nearby images.  To do this, we need to develop a metric to determine the distance between two images.  We'll make the simplifying (and completely wrong) assumption that this is just the average difference between the colors of the corresponding pixels in the two images.\n",
    "\n",
    "While we could just take RMS difference of the red, green, and blue pixels, let's be slightly more sophisticated and look at human vision for a metric.  After all, we're pretty good at image classifications, so there might be some useful optimization here.\n",
    "\n",
    "It turns out that modeling human perception is [extraordinarily complicated](https://en.wikipedia.org/wiki/Color_difference#CIEDE2000).  We're going to use a [simplified model](https://www.compuphase.com/cmetric.htm):\n",
    "\n",
    "$$\\Delta C \\equiv \\sqrt{2 \\Delta R^2 + 4 \\Delta G^2 + 3 \\Delta B^2 + \\bar R\\left(\\Delta R^2 - \\Delta B^2 \\right)} $$\n",
    "where $(R_1, G_1, B_1)$ and $(R_2, G_2, B_2)$ are the RGB components of the two colors and\n",
    "$$\\begin{align}\n",
    "\\Delta R &= R_1 - R_2 \\\\\n",
    "\\Delta G &= G_1 - G_2 \\\\\n",
    "\\Delta B &= B_1 - B_2 \\\\\n",
    "\\bar R &= \\textstyle\\frac{1}{2}\\left(R_1 + R_2\\right)\n",
    "\\end{align}$$\n",
    "\n",
    "This accounts for the fact that our eyes are most sensitive to green and least sensitive to red, and that perception is not constant with hue.\n",
    "\n",
    "Build a graph that takes in a series of images, as well as a base image, and returns a result containing the $\\Delta C$ value (for each pixel) between the base image and each image in the series.  \n",
    "\n",
    "(Note that the intention here in our solution is that `images` will be a stack of images, while `base` is a single image.  Since the function is decorated with `tf.function` the computations within the function will be recorded in a computation graph and the output from this function will be a tensor.)"
   ]
  },
  {
   "cell_type": "code",
   "execution_count": 834,
   "metadata": {},
   "outputs": [
    {
     "data": {
      "text/plain": [
       "<matplotlib.image.AxesImage at 0x7f432ced8390>"
      ]
     },
     "execution_count": 834,
     "metadata": {},
     "output_type": "execute_result"
    },
    {
     "data": {
      "image/png": "[encoded data removed]",
      "text/plain": [
       "<Figure size 432x288 with 1 Axes>"
      ]
     },
     "metadata": {},
     "output_type": "display_data"
    }
   ],
   "source": [
    "plt.imshow(validation_images[2714])"
   ]
  },
  {
   "cell_type": "code",
   "execution_count": null,
   "metadata": {},
   "outputs": [],
   "source": [
    "label_names = ['airplane', 'automobile', 'bird', 'cat', 'deer','dog', 'frog', 'horse', 'ship', 'truck']\n",
    "              #[0        ,1            ,2      ,3    ,4       ,5    , 6      ,7       ,8,      9]"
   ]
  },
  {
   "cell_type": "code",
   "execution_count": 59,
   "metadata": {
    "slideshow": null
   },
   "outputs": [],
   "source": [
    "#import tensorflow as tf\n",
    "import numpy as np\n",
    "\n",
    "#@tf.function\n",
    "def delta_func(images, base):\n",
    "    d = 0\n",
    "    for i in range(32):         #32 * 32 pixels\n",
    "        for j in range(32):\n",
    "            x = images[i][j]   #ith-jth row col pixel of image\n",
    "            y = base[i][j]  #ith-jth row col pixel of base\n",
    "            delta_RGB = x - y  #del_RGB for ith jth row col [1*3]\n",
    "            R = (x + y)/2    \n",
    "            til_R = R[0]   #del_R for ith jth row col \n",
    "        \n",
    "            del_c = (2*(delta_RGB[0] ** 2)) + (4*(delta_RGB[1] ** 2)) + (3*(delta_RGB[2] ** 2)) + til_R *(((delta_RGB[0] ** 2)-(delta_RGB[1] ** 2)))\n",
    "            \n",
    "            del_c = np.sqrt(del_c)                #for ith jth rol col pixel\n",
    "            d += del_c\n",
    "    return(d/1024)"
   ]
  },
  {
   "cell_type": "code",
   "execution_count": 62,
   "metadata": {},
   "outputs": [
    {
     "data": {
      "text/plain": [
       "[0.997012272206601,\n",
       " 1.0078456482263582,\n",
       " 1.5193682275188336,\n",
       " 0.9871081517689297,\n",
       " 1.1256976354574943,\n",
       " 1.2459289644105724,\n",
       " 1.1562378498945198,\n",
       " 0.9669830681406525,\n",
       " 1.2843328300766412,\n",
       " 1.3654199046849775,\n",
       " 1.0052808342738309,\n",
       " 1.3882527294972105,\n",
       " 1.365390521064305,\n",
       " 0.901567755406758,\n",
       " 1.1872364502600528,\n",
       " 1.1617004197326628,\n",
       " 1.3892387533699413,\n",
       " 0.8839785837974006,\n",
       " 1.2834133251973714,\n",
       " 1.096315018793959,\n",
       " 1.1553607396593062,\n",
       " 1.4842852013587287,\n",
       " 1.0551633939856548,\n",
       " 1.1305834769858525,\n",
       " 1.1110656682983358,\n",
       " 1.3232964181555504,\n",
       " 1.3700783835915977,\n",
       " 1.096224506482375,\n",
       " 1.1752005993929144,\n",
       " 1.7604356406769015,\n",
       " 0.9930848042565833,\n",
       " 1.3868778286498034,\n",
       " 0.9881483435476669,\n",
       " 0.8204871586401544,\n",
       " 1.267374079141741,\n",
       " 1.2936115644565525,\n",
       " 1.1748860341813434,\n",
       " 1.1257701234053519,\n",
       " 1.0750131888291243,\n",
       " 0.8594194924587433,\n",
       " 1.2732958961328804,\n",
       " 1.2588439417341848,\n",
       " 1.1128457733433372,\n",
       " 1.291931603100592,\n",
       " 1.0501793388222491,\n",
       " 1.2375519481853647,\n",
       " 0.9677838447608752,\n",
       " 1.056370396744535,\n",
       " 1.1381837601425144,\n",
       " 1.4976778187678395,\n",
       " 1.044830845946717,\n",
       " 1.0996840760206839,\n",
       " 0.9661432414992617,\n",
       " 1.2350762106376265,\n",
       " 1.0272138922524299,\n",
       " 1.4029709569572102,\n",
       " 1.2365309446404478,\n",
       " 1.1026559184559375,\n",
       " 1.0215706624816905,\n",
       " 1.5136739268955703,\n",
       " 1.1370625290372458,\n",
       " 1.2076058431262129,\n",
       " 1.0683183269279204,\n",
       " 1.214643942196179,\n",
       " 1.0352834986258337,\n",
       " 1.1160645416160198,\n",
       " 1.100830760322039,\n",
       " 1.4589948548434246,\n",
       " 1.044545261402057,\n",
       " 1.116776770566668,\n",
       " 1.2085744212785985,\n",
       " 1.1661348013098107,\n",
       " 1.3269083267298734,\n",
       " 1.0163089236905174,\n",
       " 1.1047918579181084,\n",
       " 0.9715885903198906,\n",
       " 1.1846108499391368,\n",
       " 0.9642600786177856,\n",
       " 0.9644021984806714,\n",
       " 1.2591672703445116,\n",
       " 1.2032539003261644,\n",
       " 1.300905750941291,\n",
       " 0.9681797984878603,\n",
       " 1.2497822022627605,\n",
       " 1.0649896441851698,\n",
       " 0.9269958708910286,\n",
       " 0.9639699519382137,\n",
       " 0.9387444371259104,\n",
       " 1.156661422857187,\n",
       " 1.1568438449101919,\n",
       " 1.0407941414389206,\n",
       " 1.084276043017546,\n",
       " 1.22412652505844,\n",
       " 1.050398935427582,\n",
       " 1.1734843489715165,\n",
       " 1.35204184280893,\n",
       " 1.1321062484307658,\n",
       " 1.1604548615743333,\n",
       " 1.0086724810653245,\n",
       " 1.1780623184315906,\n",
       " 1.1354433102667012,\n",
       " 0.8823971612813039,\n",
       " 1.2812278508365915,\n",
       " 0.9736887228768107,\n",
       " 1.074963742912137,\n",
       " 1.6756635084986977,\n",
       " 1.072039905688424,\n",
       " 1.1070912383435947,\n",
       " 1.2607982195041756,\n",
       " 1.1676566604195093,\n",
       " 1.1224283003259539,\n",
       " 1.1145509749114357,\n",
       " 1.258752630707048,\n",
       " 1.1964726304655355,\n",
       " 1.207008863646885,\n",
       " 1.3413397980919881,\n",
       " 1.0503803270825907,\n",
       " 1.1654318207028347,\n",
       " 1.44978138357816,\n",
       " 1.4134374263089695,\n",
       " 1.1290841022730937,\n",
       " 1.2313468551599343,\n",
       " 1.5373250299925967,\n",
       " 1.3014533065204839,\n",
       " 1.2485976601277022,\n",
       " 1.4986685410144354,\n",
       " 1.4071987679497333,\n",
       " 1.2372371589524833,\n",
       " 1.2940402472466896,\n",
       " 1.1912952164121204,\n",
       " 1.021366048610105,\n",
       " 1.4241136628761852,\n",
       " 0.896608952216704,\n",
       " 1.2756722246234082,\n",
       " 1.120016009188947,\n",
       " 1.3188788466290182,\n",
       " 1.1200326921315846,\n",
       " 1.099767152518436,\n",
       " 1.2559214329651944,\n",
       " 1.382830133862006,\n",
       " 1.454958492572563,\n",
       " 0.9897383669401124,\n",
       " 0.8994506453221932,\n",
       " 1.2312429934839042,\n",
       " 1.2263670090921457,\n",
       " 0.8575360604850816,\n",
       " 1.04051220361735,\n",
       " 1.10396799604155,\n",
       " 1.2115614052326247,\n",
       " 1.0531188179256266,\n",
       " 1.1699342692874573,\n",
       " 1.0984792001839585,\n",
       " 1.2429477538868994,\n",
       " 1.0321575539323051,\n",
       " 1.3034963893346676,\n",
       " 1.2222747831614817,\n",
       " 1.1918525331625471,\n",
       " 0.7300561626908275,\n",
       " 1.0605131695135448,\n",
       " 1.3083419894368364,\n",
       " 1.4875835335331926,\n",
       " 1.2472161170621134,\n",
       " 1.0014458025623336,\n",
       " 0.9715169311025287,\n",
       " 1.0590243506340347,\n",
       " 1.3401134299978543,\n",
       " 1.1916346011068666,\n",
       " 1.176984103318363,\n",
       " 1.2138310430606385,\n",
       " 1.3892383872669887,\n",
       " 1.3211959469323613,\n",
       " 0.9501944467926616,\n",
       " 1.4577694346071846,\n",
       " 1.1379346183700327,\n",
       " 1.3691324239595337,\n",
       " 0.8590453237200254,\n",
       " 1.1769065015337203,\n",
       " 0.8420648487679314,\n",
       " 1.2117505237603374,\n",
       " 0.9675531570861527,\n",
       " 1.0558509949283905,\n",
       " 0.9465567700784386,\n",
       " 0.9733802416565451,\n",
       " 1.0301996315310054,\n",
       " 1.1057451847618645,\n",
       " 1.2553053591214016,\n",
       " 1.2830634394553149,\n",
       " 1.0518108308658585,\n",
       " 1.396081240285621,\n",
       " 1.1324751937749986,\n",
       " 1.3610985620133742,\n",
       " 1.2203151853422691,\n",
       " 1.3039490784003018,\n",
       " 1.2699585069736194,\n",
       " 1.2099802076596784,\n",
       " 0.9136875354233567,\n",
       " 1.0963378542352165,\n",
       " 0.785158395292033,\n",
       " 1.1068961965873019,\n",
       " 1.1371703822450479,\n",
       " 1.2556081042032374,\n",
       " 1.0038674512055858,\n",
       " 1.6424814232657807,\n",
       " 1.4256269481431008,\n",
       " 1.0460311244055682,\n",
       " 1.659892418458872,\n",
       " 1.1422331355386055,\n",
       " 1.4895567093066895,\n",
       " 1.6225263593026709,\n",
       " 1.1081120203019144,\n",
       " 1.078773638425258,\n",
       " 1.1917509283576335,\n",
       " 1.2665583806296767,\n",
       " 1.2691231965490466,\n",
       " 1.3470161323297818,\n",
       " 1.1210623002676554,\n",
       " 1.0474264702161875,\n",
       " 1.1583103664869372,\n",
       " 1.3110635118181877,\n",
       " 1.3690181144790683,\n",
       " 1.0772450808425909,\n",
       " 1.552933857941372,\n",
       " 0.9877626261240888,\n",
       " 1.2994876890936005,\n",
       " 0.9284143706964554,\n",
       " 1.363824281142729,\n",
       " 1.5425547410702978,\n",
       " 1.006730430366522,\n",
       " 1.221554134310025,\n",
       " 0.7145961289357634,\n",
       " 1.0989464724806455,\n",
       " 1.1839522667027473,\n",
       " 1.2532250514227061,\n",
       " 1.121412576823434,\n",
       " 1.1524214653024984,\n",
       " 0.9622970902280042,\n",
       " 1.1761558394947091,\n",
       " 0.9550255955452059,\n",
       " 1.2148713496897239,\n",
       " 1.1153743877827762,\n",
       " 1.2755328800688142,\n",
       " 1.2204195980064148,\n",
       " 1.0143644817639546,\n",
       " 0.9172164644913721,\n",
       " 1.0278618359961371,\n",
       " 0.9578594376199242,\n",
       " 1.1624936620283306,\n",
       " 0.8351631301093408,\n",
       " 1.2932674760647982,\n",
       " 1.1435392775281454,\n",
       " 0.9376616919509148,\n",
       " 1.2357348893737163,\n",
       " 1.1890730667072966,\n",
       " 1.1412313564677816,\n",
       " 1.0484333615705466,\n",
       " 1.3858953106170606,\n",
       " 1.3584332706630808,\n",
       " 1.2096340123747968,\n",
       " 1.003897174027873,\n",
       " 1.5434517528224259,\n",
       " 1.155629362717074,\n",
       " 1.2093102514412402,\n",
       " 1.1958486893934936,\n",
       " 1.0771899758285084,\n",
       " 1.0828102429783937,\n",
       " 1.4633938705143412,\n",
       " 1.4665809422719929,\n",
       " 1.0532284138727597,\n",
       " 1.095349802513911,\n",
       " 1.4106789956011883,\n",
       " 1.5174403155840315,\n",
       " 1.1834442531337508,\n",
       " 1.0835671249221066,\n",
       " 1.050302529021314,\n",
       " 1.3344406517948373,\n",
       " 1.1170184905328784,\n",
       " 1.171128329262346,\n",
       " 1.0077102793145891,\n",
       " 1.6177800363427435,\n",
       " 1.1032929105044285,\n",
       " 1.2406596982703122,\n",
       " 1.1719008072348707,\n",
       " 1.0808452666426296,\n",
       " 1.0633360277954615,\n",
       " 1.278071871448671,\n",
       " 1.0188389745767525,\n",
       " 1.167419158833992,\n",
       " 1.250998312919791,\n",
       " 1.1018922460330354,\n",
       " 1.230295557126783,\n",
       " 1.4634777447156828,\n",
       " 0.9257646088232923,\n",
       " 0.9940102873468567,\n",
       " 1.2032884386289757,\n",
       " 1.0964786035035028,\n",
       " 1.6433013955160323,\n",
       " 1.2428251291650778,\n",
       " 0.9564334297185381,\n",
       " 0.8501752242646023,\n",
       " 1.1321216413386916,\n",
       " 1.1789456195675794,\n",
       " 1.2095943570607484,\n",
       " 1.2237645273212343,\n",
       " 1.0656800081357545,\n",
       " 0.99477961781903,\n",
       " 1.0915179636646917,\n",
       " 1.2370587338619516,\n",
       " 1.032481529027397,\n",
       " 1.1747371065338588,\n",
       " 1.2507496637485438,\n",
       " 1.413612394735218,\n",
       " 1.2252117373269198,\n",
       " 1.132440878906816,\n",
       " 1.1310673997583873,\n",
       " 1.0435273174362971,\n",
       " 1.5101066373060947,\n",
       " 1.5588757494552707,\n",
       " 1.3413649152690017,\n",
       " 1.034207418670338,\n",
       " 1.523378172353465,\n",
       " 0.9907424780323134,\n",
       " 1.003355240661867,\n",
       " 1.0783519436122595,\n",
       " 1.4657852164736471,\n",
       " 1.0645589891838578,\n",
       " 1.0824869433619206,\n",
       " 1.4144719146620555,\n",
       " 0.9430358539570668,\n",
       " 0.9595432172925207,\n",
       " 1.2072135596575344,\n",
       " 1.2154523984365144,\n",
       " 1.112653538858634,\n",
       " 1.059025610765606,\n",
       " 1.3588957247998965,\n",
       " 0.9760431218724436,\n",
       " 1.1862244971325326,\n",
       " 1.1033088977624996,\n",
       " 1.2069281652590436,\n",
       " 1.15322218250574,\n",
       " 1.262219378948934,\n",
       " 1.3037923897345347,\n",
       " 1.2824581599392184,\n",
       " 0.7956886592665333,\n",
       " 1.0069880979850234,\n",
       " 1.197150893568151,\n",
       " 1.1260297423084467,\n",
       " 1.2774555954336162,\n",
       " 0.9754400001495421,\n",
       " 1.0967554152048193,\n",
       " 1.0514629694991584,\n",
       " 0.9720484967155063,\n",
       " 1.1490776416235509,\n",
       " 1.2776019081110828,\n",
       " 1.2994993837140085,\n",
       " 0.9757890372216999,\n",
       " 1.2198009809761994,\n",
       " 1.1346460207972566,\n",
       " 0.9854189923335379,\n",
       " 0.9827202285069588,\n",
       " 0.8596411832294824,\n",
       " 1.364315950865158,\n",
       " 0.9418093523657217,\n",
       " 1.0392450171291248,\n",
       " 1.1615756020812698,\n",
       " 1.6133616661750647,\n",
       " 1.1560196402273852,\n",
       " 1.117420728457806,\n",
       " 1.1262485674562943,\n",
       " 0.9762529776304634,\n",
       " 1.1282448197807862,\n",
       " 1.3427703768856554,\n",
       " 1.520299624742039,\n",
       " 1.08799201200601,\n",
       " 1.0073398414957675,\n",
       " 0.9085007306332874,\n",
       " 1.353043737638922,\n",
       " 1.2136728894157458,\n",
       " 1.149975752570397,\n",
       " 0.99278637837175,\n",
       " 1.2482091793546042,\n",
       " 1.140622180433995,\n",
       " 1.136275183827056,\n",
       " 0.9129158329091847,\n",
       " 1.0939208879540951,\n",
       " 0.9083095957809905,\n",
       " 1.3344591660154046,\n",
       " 1.302654365918247,\n",
       " 1.1082784913403116,\n",
       " 1.3624962158854315,\n",
       " 1.0507430289800597,\n",
       " 1.474143557286735,\n",
       " 1.1104131151947674,\n",
       " 1.0355887900088598,\n",
       " 1.1114840760975002,\n",
       " 1.3369364571142648,\n",
       " 1.273800090625477,\n",
       " 1.173151666229973,\n",
       " 1.2676338891867274,\n",
       " 0.9797353105889243,\n",
       " 0.9988042278282372,\n",
       " 1.015222871621991,\n",
       " 1.3894941300787491,\n",
       " 1.0874699857605532,\n",
       " 1.1443744855357323,\n",
       " 1.4808042432370072,\n",
       " 0.9416239848323529,\n",
       " 1.2658442652329367,\n",
       " 1.4720502271470302,\n",
       " 1.250582067014478,\n",
       " 1.3194435057664153,\n",
       " 0.9188702221175651,\n",
       " 1.1333914711362503,\n",
       " 1.4654230126039798,\n",
       " 1.0968409689410372,\n",
       " 1.2998276592886493,\n",
       " 1.6137647237186798,\n",
       " 0.9899596731591438,\n",
       " 1.1151276250798685,\n",
       " 1.3472206503317319,\n",
       " 1.2159510968998912,\n",
       " 1.046049724109135,\n",
       " 1.0088888216465999,\n",
       " 1.3189919376632662,\n",
       " 1.0592081253893908,\n",
       " 1.1244146079322175,\n",
       " 1.0760439913035882,\n",
       " 1.0422478151274428,\n",
       " 1.046340695851853,\n",
       " 1.3485571447835423,\n",
       " 0.9652374043494377,\n",
       " 1.4274738257140818,\n",
       " 0.9551719182059097,\n",
       " 1.0647783846629775,\n",
       " 1.010069396559579,\n",
       " 0.8459366704213017,\n",
       " 1.228480856111867,\n",
       " 1.2295136626870091,\n",
       " 1.2213498601648192,\n",
       " 1.2822129757998622,\n",
       " 1.2193302025932231,\n",
       " 0.9638064566508338,\n",
       " 1.3490340094821773,\n",
       " 1.0285181101527634,\n",
       " 1.4757846158702321,\n",
       " 1.2807870201959137,\n",
       " 0.9425325856673221,\n",
       " 0.9025979494385652,\n",
       " 1.070545331322226,\n",
       " 1.375336316956798,\n",
       " 1.0086300783339943,\n",
       " 1.185176293507676,\n",
       " 0.8317144557471454,\n",
       " 1.049698492069111,\n",
       " 1.3720336116376617,\n",
       " 0.9799405163716373,\n",
       " 1.2173313675323074,\n",
       " 1.051418335714386,\n",
       " 1.123458649415561,\n",
       " 1.1145413090457434,\n",
       " 1.2649688689372114,\n",
       " 1.0041177111764719,\n",
       " 1.7286271333979348,\n",
       " 1.2601833714896793,\n",
       " 1.115074613410054,\n",
       " 1.1223811720429824,\n",
       " 1.1441248648605946,\n",
       " 1.090194508418649,\n",
       " 1.2767633094854125,\n",
       " 1.1528384769271283,\n",
       " 0.9568407652946906,\n",
       " 1.141287361033564,\n",
       " 0.9651928786593077,\n",
       " 1.4381922966559777,\n",
       " 1.116703264107431,\n",
       " 1.302420578186624,\n",
       " 1.2307116748301414,\n",
       " 1.0210466891792436,\n",
       " 1.1147137061099706,\n",
       " 1.0218023791928932,\n",
       " 1.5149975294146205,\n",
       " 1.3033526415206402,\n",
       " 1.2998982492834614,\n",
       " 1.1288932547592154,\n",
       " 1.211180966123148,\n",
       " 1.1909899403334334,\n",
       " 1.4641000697528728,\n",
       " 1.1117640828383273,\n",
       " 1.2808551779862951,\n",
       " 1.206856036066362,\n",
       " 1.1305681304017234,\n",
       " 1.0967151584774495,\n",
       " 1.0264162988622416,\n",
       " 0.8764916379178919,\n",
       " 1.2269013705127878,\n",
       " 1.3639751235516113,\n",
       " 1.349096475122562,\n",
       " 1.3922761943877637,\n",
       " 1.170524182612109,\n",
       " 1.2924834944032824,\n",
       " 1.2804647989703681,\n",
       " 1.360131357088185,\n",
       " 1.0449044535681609,\n",
       " 0.9813497475130258,\n",
       " 1.5188826989043958,\n",
       " 1.5416834067152407,\n",
       " 1.272351543376554,\n",
       " 1.1577617048036475,\n",
       " 1.1895416010090736,\n",
       " 1.2950392052174813,\n",
       " 1.1924631524977165,\n",
       " 0.8970590521512716,\n",
       " 1.540556683282405,\n",
       " 1.1020282344063015,\n",
       " 1.0730155377391362,\n",
       " 0.9696244254047687,\n",
       " 0.891386148700302,\n",
       " 1.259680416173472,\n",
       " 1.0698365847887075,\n",
       " 1.1818136825670364,\n",
       " 0.9071963164738426,\n",
       " 0.8494104094803686,\n",
       " 0.9067001903533991,\n",
       " 1.2172406626463028,\n",
       " 1.1531614022037506,\n",
       " 1.4652265839554415,\n",
       " 0.9869191965725693,\n",
       " 1.1467661793415076,\n",
       " 1.1895234290683803,\n",
       " 0.9646667720239779,\n",
       " 1.0704188900949994,\n",
       " 1.2101223685326719,\n",
       " 1.1562868993031918,\n",
       " 0.9435270114451572,\n",
       " 1.1223772929169487,\n",
       " 0.9749400917245851,\n",
       " 1.567026210928082,\n",
       " 1.1404892814619636,\n",
       " 1.136098163458351,\n",
       " 1.3857076402756454,\n",
       " 1.314436331709953,\n",
       " 1.213866361241692,\n",
       " 1.3899225378101026,\n",
       " 1.132240978105732,\n",
       " 1.12274539293303,\n",
       " 1.0488281313140482,\n",
       " 1.1384164753756425,\n",
       " 1.2582085962629208,\n",
       " 1.3560885168525345,\n",
       " 1.0912406801933296,\n",
       " 1.1699308408162536,\n",
       " 1.0386823380806138,\n",
       " 1.1035424423102629,\n",
       " 0.9531930971661284,\n",
       " 1.325311688848645,\n",
       " 1.2607153767577002,\n",
       " 1.3221343042797438,\n",
       " 1.0792132990977705,\n",
       " 1.0341981435946155,\n",
       " 1.2174662933154603,\n",
       " 1.0646728619893824,\n",
       " 1.1601132247647867,\n",
       " 1.0267037441148867,\n",
       " 0.9927550186902705,\n",
       " 1.0744712093225177,\n",
       " 0.9844786208488525,\n",
       " 0.89636143321823,\n",
       " 1.3354021463938575,\n",
       " 1.4441649427751213,\n",
       " 1.3233731772380832,\n",
       " 0.9082052111565904,\n",
       " 1.0574611098902478,\n",
       " 1.3212332560079156,\n",
       " 1.150365595552648,\n",
       " 1.0884055910397485,\n",
       " 1.2756099167551351,\n",
       " 1.1698430930502288,\n",
       " 0.9785537420424792,\n",
       " 1.2668648474751778,\n",
       " 0.9919161774582385,\n",
       " 1.6197147293230183,\n",
       " 1.337069726198903,\n",
       " 0.8705969902875988,\n",
       " 1.4284004317409655,\n",
       " 1.1307502351608394,\n",
       " 1.237500694746997,\n",
       " 1.0313051011017769,\n",
       " 0.9810690307297919,\n",
       " 1.1229176836064283,\n",
       " 1.0610826034953966,\n",
       " 0.9073594130407425,\n",
       " 1.574758265053449,\n",
       " 1.0254042027067292,\n",
       " 1.1196436968663017,\n",
       " 1.2585462201905762,\n",
       " 1.5475379882315279,\n",
       " 1.0430111255132972,\n",
       " 1.2237593865945915,\n",
       " 1.1465469340082683,\n",
       " 1.3431894676641607,\n",
       " 1.090233815254176,\n",
       " 1.2181570548307479,\n",
       " 1.1663889903223195,\n",
       " 1.0189638456767096,\n",
       " 1.1548763600963055,\n",
       " 1.2333232955690077,\n",
       " 1.4247601739683795,\n",
       " 1.0814226151092692,\n",
       " 1.1747730166169035,\n",
       " 1.123245139102362,\n",
       " 1.2480852855044593,\n",
       " 1.1376410080786203,\n",
       " 1.0711369751339135,\n",
       " 1.3858477957984134,\n",
       " 1.1066890594312029,\n",
       " 0.8469006917671124,\n",
       " 1.075938500220518,\n",
       " 1.3938639039633884,\n",
       " 1.337601436685505,\n",
       " 1.2040919908434164,\n",
       " 0.9526750434701045,\n",
       " 1.1284034748690634,\n",
       " 1.1154262991746273,\n",
       " 1.1152144357955482,\n",
       " 1.5604773771953009,\n",
       " 1.0488776056143079,\n",
       " 1.2580884341116856,\n",
       " 1.1688944299982227,\n",
       " 1.2054031837186665,\n",
       " 1.2502199861517511,\n",
       " 1.090018045274945,\n",
       " 1.192103699957339,\n",
       " 1.234261497038545,\n",
       " 1.2192443267988269,\n",
       " 0.9021842849961469,\n",
       " 1.1019611821570727,\n",
       " 0.9224588253996643,\n",
       " 1.4071017989290155,\n",
       " 1.3343796989188168,\n",
       " 0.8940041013168537,\n",
       " 0.9676709853555155,\n",
       " 1.2105176159839883,\n",
       " 1.200799742436961,\n",
       " 1.2312916288405322,\n",
       " 1.53468919001184,\n",
       " 1.5078216603228378,\n",
       " 1.0119323881142321,\n",
       " 1.2255440415762022,\n",
       " 1.0917318371816438,\n",
       " 0.9953798081550217,\n",
       " 1.2252712313787235,\n",
       " 1.5368099907060722,\n",
       " 1.0201124017855654,\n",
       " 0.8932979703790597,\n",
       " 1.3735534065757367,\n",
       " 1.1440070002874314,\n",
       " 1.5645593432104983,\n",
       " 1.114021048006471,\n",
       " 1.2647917975999716,\n",
       " 0.997045886427375,\n",
       " 1.206783115097071,\n",
       " 1.3912851790409864,\n",
       " 1.1112140601720537,\n",
       " 0.9580157514825213,\n",
       " 1.2705927433225312,\n",
       " 1.2910901983284624,\n",
       " 0.9001466341648542,\n",
       " 1.2151625365941419,\n",
       " 1.0968740301391071,\n",
       " 1.2690949592459275,\n",
       " 1.1137489041622424,\n",
       " 0.9149646454886446,\n",
       " 1.2860026240353202,\n",
       " 1.2070319997990637,\n",
       " 0.9671292749300915,\n",
       " 1.1447325007755849,\n",
       " 1.0815421389570308,\n",
       " 1.3998273443768803,\n",
       " 1.1367380397776237,\n",
       " 1.068876338674617,\n",
       " 1.335410364514504,\n",
       " 0.9843357955111757,\n",
       " 1.0702112228252467,\n",
       " 1.0008853644174418,\n",
       " 1.1897306422533642,\n",
       " 1.0521385455166967,\n",
       " 1.110077072364867,\n",
       " 1.000668296807919,\n",
       " 1.4183785780475642,\n",
       " 0.8059634944031039,\n",
       " 0.9522690414575945,\n",
       " 1.1135790993779393,\n",
       " 1.4596681161098124,\n",
       " 1.0194874949615609,\n",
       " 1.2249083392033944,\n",
       " 1.284314814242079,\n",
       " 1.182247522682123,\n",
       " 1.1578364495096234,\n",
       " 1.171705723598794,\n",
       " 1.1440710475221325,\n",
       " 1.2122644758853378,\n",
       " 1.3246787112897849,\n",
       " 1.1278515631187365,\n",
       " 1.2474372513587357,\n",
       " 1.1120668122033448,\n",
       " 1.4129619476361461,\n",
       " 1.0722038664358073,\n",
       " 1.691198463837993,\n",
       " 1.48441684658176,\n",
       " 1.329275226015162,\n",
       " 1.0958354950411904,\n",
       " 1.018154687228829,\n",
       " 1.2908852524620056,\n",
       " 1.1635159157149084,\n",
       " 1.3556002886778868,\n",
       " 1.0667048424450871,\n",
       " 1.189221244445191,\n",
       " 1.1085629296362904,\n",
       " 0.9644131049435198,\n",
       " 1.167106460351006,\n",
       " 1.3156286103916777,\n",
       " 1.1773627505214586,\n",
       " 1.1393749725463096,\n",
       " 1.307282478946658,\n",
       " 1.0428293417441241,\n",
       " 1.294728810657077,\n",
       " 1.0424323420882826,\n",
       " 0.9778329530284324,\n",
       " 1.078758298764336,\n",
       " 1.0391728228609312,\n",
       " 0.8323324906876542,\n",
       " 0.8794928811397097,\n",
       " 1.4188948280657931,\n",
       " 1.0365429575185898,\n",
       " 1.1116113709399658,\n",
       " 0.867899239294502,\n",
       " 1.4627367463210184,\n",
       " 1.2332619048272435,\n",
       " 1.3385787592588985,\n",
       " 1.2040471855738168,\n",
       " 1.1266615080041478,\n",
       " 1.3819608321008738,\n",
       " 1.3287264684491746,\n",
       " 1.1333025703777095,\n",
       " 1.2029933143008589,\n",
       " 1.0624985375444198,\n",
       " 1.142217066986039,\n",
       " 1.382963016150816,\n",
       " 0.8675505136043006,\n",
       " 1.3080363345367936,\n",
       " 1.3302843490060354,\n",
       " 0.9144510015950357,\n",
       " 1.1913182339452504,\n",
       " 1.1312352793393272,\n",
       " 1.2997019626060784,\n",
       " 1.0500042340913247,\n",
       " 1.2229536498396376,\n",
       " 1.262781749380319,\n",
       " 1.2497599626756561,\n",
       " 1.065227744469662,\n",
       " 1.075758137622669,\n",
       " 1.4119863444215535,\n",
       " 1.3091848698633604,\n",
       " 1.229287788454445,\n",
       " 1.1892150625341444,\n",
       " 1.0539992755706256,\n",
       " 1.0656089450664663,\n",
       " 1.2000151433256734,\n",
       " 1.108471973285342,\n",
       " 1.070140998352157,\n",
       " 1.3242164206041616,\n",
       " 1.095010318697176,\n",
       " 1.2470071907825218,\n",
       " 1.0812719288512986,\n",
       " 1.1426177924864303,\n",
       " 1.3588353544760834,\n",
       " 0.8512156800051153,\n",
       " 1.1838016150598965,\n",
       " 1.1695789372365695,\n",
       " 1.32809926984031,\n",
       " 1.3507404702292596,\n",
       " 1.2999808470160557,\n",
       " 1.0712644211054325,\n",
       " 1.5117774990953379,\n",
       " 1.0974801811380974,\n",
       " 0.9920079898904963,\n",
       " 1.1747024331211047,\n",
       " 1.2299623886354274,\n",
       " 1.0162280689640333,\n",
       " 1.2375730249308357,\n",
       " 1.1818934439026343,\n",
       " 1.537257038273511,\n",
       " 1.6035613565242937,\n",
       " 0.9419240982746453,\n",
       " 1.1696455237782208,\n",
       " 1.2872499483284923,\n",
       " 1.2708074963008278,\n",
       " 1.284789424761155,\n",
       " 1.2086924517371676,\n",
       " 1.1364748427684321,\n",
       " 1.0678223471570372,\n",
       " 1.068135777291211,\n",
       " 1.2005156419406988,\n",
       " 1.2430881573867685,\n",
       " 1.302115827174488,\n",
       " 1.0974245162002834,\n",
       " 1.20318458018761,\n",
       " 0.9982346341952728,\n",
       " 1.0163699896186784,\n",
       " 1.4234469151402338,\n",
       " 1.0019396013685333,\n",
       " 1.2166199068161683,\n",
       " 1.3557275103637005,\n",
       " 1.1331439272584296,\n",
       " 1.3600410486984722,\n",
       " 0.8438550619918983,\n",
       " 1.1559076563477086,\n",
       " 1.4138868199936536,\n",
       " 1.0013249132861002,\n",
       " 1.063284088378222,\n",
       " 1.2891361536453896,\n",
       " 1.2464626569659387,\n",
       " 1.4273066358417068,\n",
       " 1.2654423024992463,\n",
       " 0.997391207293274,\n",
       " 1.290645466709621,\n",
       " 0.836595122501529,\n",
       " 0.8048415846962937,\n",
       " 1.1376258268012982,\n",
       " 1.091836350408979,\n",
       " 0.8284373093831736,\n",
       " 1.0459604501323834,\n",
       " 1.0004213942489208,\n",
       " 1.2081887404802871,\n",
       " 1.0223634516496287,\n",
       " 0.7868689431471857,\n",
       " 1.2289607367507853,\n",
       " 1.1810391569377647,\n",
       " 1.057267417921115,\n",
       " 1.0941118518389403,\n",
       " 0.9580584955150835,\n",
       " 1.2253901223645292,\n",
       " 1.2241580108529722,\n",
       " 1.3596031475974424,\n",
       " 1.3241939934288003,\n",
       " 1.1897623010122342,\n",
       " 1.0359827631812226,\n",
       " 1.1758453192292826,\n",
       " 1.0849223915251582,\n",
       " 1.2449720870703354,\n",
       " 1.0129887073348012,\n",
       " 1.1120115345239385,\n",
       " 0.9561654861678942,\n",
       " 1.085192392482341,\n",
       " 1.5067444077400356,\n",
       " 0.9926480005329612,\n",
       " 1.1004043991964336,\n",
       " 0.9050574146853254,\n",
       " 1.0517305908399694,\n",
       " 1.2778007988719784,\n",
       " 1.1626203742567285,\n",
       " 1.2893409958161013,\n",
       " 1.3242702349573268,\n",
       " 1.2173199969681923,\n",
       " 1.0658538373067545,\n",
       " 1.3454441822060637,\n",
       " 1.111974446106978,\n",
       " 1.4036792027487355,\n",
       " 1.3103122537267942,\n",
       " 1.3200823030702666,\n",
       " 1.3594234354396761,\n",
       " 0.869185858173918,\n",
       " 1.2443911502843474,\n",
       " 1.1370203762955386,\n",
       " 1.339171915102764,\n",
       " 1.1414274341034225,\n",
       " 0.9894288272512289,\n",
       " 1.180467665252136,\n",
       " 0.9663189144158325,\n",
       " 1.3333089193061194,\n",
       " 1.275830151323915,\n",
       " 1.0764101048399375,\n",
       " 1.2426038945169697,\n",
       " 1.0814945502016478,\n",
       " 1.5962705907487789,\n",
       " 1.3386569938224822,\n",
       " 1.57509723236373,\n",
       " 1.4215187730721597,\n",
       " 1.1146448972800085,\n",
       " 1.1806392014135052,\n",
       " 1.344462233437914,\n",
       " 1.6396913961701811,\n",
       " 1.1505567143949762,\n",
       " 1.214831908654796,\n",
       " 1.3946077626732218,\n",
       " 0.8616230446033518,\n",
       " 1.071735323577434,\n",
       " 1.1649813678872527,\n",
       " 1.4235521630846533,\n",
       " 1.2429253676842602,\n",
       " 1.331858502896083,\n",
       " 1.1637975904596267,\n",
       " 1.3757051278677466,\n",
       " 1.2864000762152978,\n",
       " 1.1483434198776985,\n",
       " 1.1474284333392142,\n",
       " 1.2622562467171512,\n",
       " 1.0502230664538388,\n",
       " 1.166404435941828,\n",
       " 1.0294853030400446,\n",
       " 1.219591026938339,\n",
       " 0.987395820473491,\n",
       " 1.210773603130543,\n",
       " 1.1633920987663728,\n",
       " 1.2339368624246232,\n",
       " 0.8795822478575636,\n",
       " 1.3378624739442255,\n",
       " 1.0433407360208364,\n",
       " 1.4027394076950068,\n",
       " 0.9612711877108316,\n",
       " 1.008287630624387,\n",
       " 0.9824169795403488,\n",
       " 1.178855865010938,\n",
       " 1.0983360370978785,\n",
       " 1.2544445446260286,\n",
       " 1.0859980690483626,\n",
       " 1.1436373961650792,\n",
       " 1.1501835766389241,\n",
       " 1.131135019440025,\n",
       " 1.0404930156673218,\n",
       " 1.4057092462223886,\n",
       " 1.0922175085120507,\n",
       " 0.8025571555378466,\n",
       " 0.8419683216601197,\n",
       " 1.0415506498421319,\n",
       " 1.2983573317778188,\n",
       " 1.5601791082309018,\n",
       " 1.0245025432126424,\n",
       " 1.139875715576972,\n",
       " 1.1553226140607975,\n",
       " 1.0500683726565454,\n",
       " 1.1375875472170192,\n",
       " 1.3469455176356573,\n",
       " 0.9902951491834747,\n",
       " 1.1258404094088403,\n",
       " 1.2788677824285104,\n",
       " 1.2162960299259502,\n",
       " 1.0741360844669379,\n",
       " 1.312176232006461,\n",
       " 1.3802275485543343,\n",
       " 1.047818482917276,\n",
       " 1.3052338330193625,\n",
       " 1.1503767310334276,\n",
       " 0.9295398946462894,\n",
       " 1.3769129868747696,\n",
       " 1.3703632733306979,\n",
       " 0.965859297091665,\n",
       " 1.2564597839775238,\n",
       " 1.1846915390620862,\n",
       " 1.274241305391488,\n",
       " 0.9144923112206547,\n",
       " 1.047472332703114,\n",
       " 1.014862708485248,\n",
       " 1.4268585895529815,\n",
       " 1.0678541935399566,\n",
       " 1.5994920341936116,\n",
       " 1.5369887870162535,\n",
       " 0.8873608282905636,\n",
       " 1.1864159458504215,\n",
       " 1.3438433552665945,\n",
       " 0.977852796428959,\n",
       " 1.1807106266571907,\n",
       " 1.1503218619984446,\n",
       " 1.5131924262256218,\n",
       " 1.0765534911320638,\n",
       " 1.0836801851968212,\n",
       " 1.4146093343251671,\n",
       " 0.8787551751850664,\n",
       " 1.7560038457021234,\n",
       " 1.0518762748238346,\n",
       " 0.9807280400399522,\n",
       " 0.9150319482628518,\n",
       " 1.1257990897805705,\n",
       " 1.17022124486907,\n",
       " 1.34703313163094,\n",
       " 0.979313091373209,\n",
       " 1.0290710810682837,\n",
       " 0.9081315284126202,\n",
       " 1.2074213902563633,\n",
       " 1.11431600159092,\n",
       " 1.2687972845248259,\n",
       " 1.039390789410835,\n",
       " 1.6328220043587665,\n",
       " 1.096443025541717,\n",
       " 0.8818964282743109,\n",
       " 1.2400139647798865,\n",
       " 1.5202398569278694,\n",
       " 1.0037673739712594,\n",
       " 1.2328522182619792,\n",
       " 1.5316803657724969,\n",
       " 1.2913566102532017,\n",
       " ...]"
      ]
     },
     "execution_count": 62,
     "metadata": {},
     "output_type": "execute_result"
    }
   ],
   "source": [
    "deltas = []\n",
    "base = validation_images[0]\n",
    "distances = []\n",
    "for i in range(len(train_images)):\n",
    "    images = train_images[i]\n",
    "    delta = delta_func(images, base)\n",
    "    distances.append(delta)\n",
    "distances"
   ]
  },
  {
   "cell_type": "markdown",
   "metadata": {
    "slideshow": null
   },
   "source": [
    "As stated, for two images, $I_1$ and $I_2$, we define the distance between $I_1$ and $I_2$ as the average $\\Delta C$ value over the whole image, that is:\n",
    "\n",
    "$$d(I_1, I_2) = \\frac{1}{N}\\sum_{p_j} \\Delta C(p_j)$$\n",
    "where the sum is over all pixels $p_j$, $\\Delta C(p_2)$ is the $\\Delta C$ value for the pixel $p_j$, and $N$ is the total number of pixels in each image ($N= 32\\times 32$ in our case).\n",
    "\n",
    "Using `delta_func` compute the distance between the first validation image and all of the training images.\n",
    "\n",
    "**Checkpoint:** The mean value of the distances is 1.159, and the standard deviation of the distances is 0.182."
   ]
  },
  {
   "cell_type": "code",
   "execution_count": 109,
   "metadata": {
    "slideshow": null
   },
   "outputs": [
    {
     "data": {
      "text/plain": [
       "array([23437])"
      ]
     },
     "execution_count": 109,
     "metadata": {},
     "output_type": "execute_result"
    }
   ],
   "source": [
    "deltas = distances\n",
    "indices = np.argsort(deltas)[:1]\n",
    "indices"
   ]
  },
  {
   "cell_type": "code",
   "execution_count": 64,
   "metadata": {
    "slideshow": null
   },
   "outputs": [
    {
     "name": "stdout",
     "output_type": "stream",
     "text": [
      "==================\n",
      "Your score:  0.9500000000000006\n",
      "==================\n"
     ]
    }
   ],
   "source": [
    "#indices = [43234]*100\n",
    "\n",
    "grader.score('tf__perceptual_delta', indices)"
   ]
  },
  {
   "cell_type": "markdown",
   "metadata": {
    "slideshow": null
   },
   "source": [
    "Define an error function that measures the difference between that typical image and a set of images. You should be able to use the same `delta_func` you defined in the first problem."
   ]
  },
  {
   "cell_type": "code",
   "execution_count": 74,
   "metadata": {
    "slideshow": null
   },
   "outputs": [],
   "source": [
    "import numpy as np\n",
    "def delta_func(images, base):\n",
    "    d = 0\n",
    "    for i in range(32):         #32 * 32 pixels\n",
    "        for j in range(32):\n",
    "            x = images[i][j]   #ith-jth row col pixel of image\n",
    "            y = base[i][j]  #ith-jth row col pixel of base\n",
    "            delta_RGB = x - y  #del_RGB for ith jth row col [1*3]\n",
    "            R = (x + y)/2    \n",
    "            til_R = R[0]   #del_R for ith jth row col \n",
    "        \n",
    "            del_c = (2*(delta_RGB[0] ** 2)) + (4*(delta_RGB[1] ** 2)) + (3*(delta_RGB[2] ** 2)) + til_R *(((delta_RGB[0] ** 2)-(delta_RGB[1] ** 2)))\n",
    "            \n",
    "            del_c = np.sqrt(del_c)                #for ith jth rol col pixel\n",
    "            d += del_c\n",
    "    return(d/1024)"
   ]
  },
  {
   "cell_type": "markdown",
   "metadata": {
    "slideshow": null
   },
   "source": [
    "Now, we will use gradient descent to find a typical image in order to minimize the error.  We want to do this for each of the ten classes of images, but let's first concentrate on how we do this for a single class (we can roll the code into a `for` loop later).  \n",
    "\n",
    "First let's get the images that belong to a single class, say class 6."
   ]
  },
  {
   "cell_type": "code",
   "execution_count": 80,
   "metadata": {
    "slideshow": null
   },
   "outputs": [
    {
     "data": {
      "text/plain": [
       "<matplotlib.image.AxesImage at 0x7f432c0c0110>"
      ]
     },
     "execution_count": 80,
     "metadata": {},
     "output_type": "execute_result"
    },
    {
     "data": {
      "image/png": "[encoded data removed]",
      "text/plain": [
       "<Figure size 432x288 with 1 Axes>"
      ]
     },
     "metadata": {},
     "output_type": "display_data"
    }
   ],
   "source": [
    "label = 6 \n",
    "ims = np.where(train_labels == label)[0]  #indices with label 6\n",
    "plt.imshow(train_images[ims[2]])"
   ]
  },
  {
   "cell_type": "code",
   "execution_count": 84,
   "metadata": {},
   "outputs": [
    {
     "data": {
      "text/plain": [
       "5000"
      ]
     },
     "execution_count": 84,
     "metadata": {},
     "output_type": "execute_result"
    }
   ],
   "source": [
    "len(ims)"
   ]
  },
  {
   "cell_type": "markdown",
   "metadata": {
    "slideshow": null
   },
   "source": [
    "Now define the gradient descent optimizer, and a function that will calculate the gradient of the error with respect to your typical image, using the optimizer to apply the gradient to the typical image.  Remember that you need to specify a learning rate for the optimizer.  You might need to later experiment with the learning rate to find the right value so the training will converge to the minimum (and converge quickly).  (__Note:__  \"Normal\" learning rates are typically in the range 0.1 to 1, perhaps even smaller in some situations.  The learning rate we used in our solution was 10.)  "
   ]
  },
  {
   "cell_type": "code",
   "execution_count": 148,
   "metadata": {},
   "outputs": [],
   "source": [
    "def error(images,typ):\n",
    "    return tf.reduce_mean(delta_func(images,typ))\n",
    "\n",
    "def _gradients(images,typ):\n",
    "    with tf.GradientTape() as tape:\n",
    "        loss = error(images,typ)\n",
    "    return tape.gradient(loss,[typ])\n",
    "\n",
    "def SGD(images,typ,eta=10,steps = 1):\n",
    "    for _ in range(steps):\n",
    "        typ = typ - _gradients(images,typ)[0] * eta \n",
    "    return typ"
   ]
  },
  {
   "cell_type": "code",
   "execution_count": 149,
   "metadata": {
    "slideshow": null
   },
   "outputs": [],
   "source": [
    "def my_func(arg):\n",
    "    arg = tf.convert_to_tensor(arg, dtype=tf.float32)\n",
    "    return arg\n",
    "typ = my_func(train_images[ims[0]])"
   ]
  },
  {
   "cell_type": "markdown",
   "metadata": {
    "slideshow": null
   },
   "source": [
    "You can compare this to the first four frog (class label 6) training images. A perfect fit, right?  "
   ]
  },
  {
   "cell_type": "code",
   "execution_count": 545,
   "metadata": {
    "slideshow": null
   },
   "outputs": [
    {
     "data": {
      "image/png": "[encoded data removed]",
      "text/plain": [
       "<Figure size 432x288 with 4 Axes>"
      ]
     },
     "metadata": {},
     "output_type": "display_data"
    }
   ],
   "source": [
    "frogs = np.where(train_labels == 6)[0]   #  Get the indices for the frogs\n",
    "\n",
    "fig, ax = plt.subplots(4, 1)\n",
    "for i in range(4):\n",
    "    np.ravel(ax)[i].imshow(train_images[ frogs[i] ])\n",
    "\n",
    "plt.show()"
   ]
  },
  {
   "cell_type": "code",
   "execution_count": 842,
   "metadata": {
    "slideshow": null
   },
   "outputs": [
    {
     "name": "stdout",
     "output_type": "stream",
     "text": [
      "==================\n",
      "Your score:  3.597416576964478\n",
      "==================\n"
     ]
    }
   ],
   "source": [
    "#predicted_classes = return [0]*len(validation_images)\n",
    "\n",
    "grader.score('tf__smallest_delta', arr1)"
   ]
  },
  {
   "cell_type": "markdown",
   "metadata": {
    "slideshow": null
   },
   "source": [
    "## Softmax model"
   ]
  },
  {
   "cell_type": "markdown",
   "metadata": {
    "slideshow": null
   },
   "source": [
    "Looking only at the smallest distance is throwing some information away.  We would expect some classes to have more variation that others.  Also, we would expect correlation between the classes&mdash;a small distance to *cat* is probably more likely for *dog* than for *airplane*.\n",
    "\n",
    "Instead of a trying to work out these effects heuristically, let the computer do it.  Build a softmax model that takes as input features the distances from all ten typical images and makes a class prediction from those.  Again, use this to predict the class for each of the validation images.\n",
    "\n",
    "**Hint:**\n",
    "- The labels are given as integers, but softmax expects one-hot encoding of the labels.  The `tf.one_hot` function can do the conversion."
   ]
  },
  {
   "cell_type": "code",
   "execution_count": 844,
   "metadata": {
    "slideshow": null
   },
   "outputs": [
    {
     "name": "stdout",
     "output_type": "stream",
     "text": [
      "==================\n",
      "Your score:  3.4329738058551618\n",
      "==================\n"
     ]
    }
   ],
   "source": [
    "from tensorflow.keras.utils import to_categorical as one_hot\n",
    "from tensorflow import keras\n",
    "x = keras.layers.Input(shape = (10,))\n",
    "y = keras.layers.Dense(10, activation = 'softmax')(x)\n",
    "cst = keras.models.Model(inputs=x, outputs=y)\n",
    "\n",
    "y_train = one_hot(train_labels)\n",
    "\n",
    "#predicted_classes = return [0]*len(validation_images)\n",
    "\n",
    "cst.compile(loss='categorical_crossentropy',\n",
    "              optimizer=keras.optimizers.SGD(lr=0.5),\n",
    "              metrics=['accuracy'])\n",
    "\n",
    "##magic cst.predit()\n",
    "\n",
    "grader.score('tf__softmax', arr1)"
   ]
  },
  {
   "cell_type": "markdown",
   "metadata": {
    "slideshow": null
   },
   "source": [
    "**Extension:** Does this perform any better than the previous solution?  What metric is the right one to use to make this judgment?"
   ]
  },
  {
   "cell_type": "markdown",
   "metadata": {
    "slideshow": null
   },
   "source": [
    "## Fully-connected model"
   ]
  },
  {
   "cell_type": "markdown",
   "metadata": {
    "slideshow": null
   },
   "source": [
    "The previous model still makes the assumption that this distance metric is the right measure to use.  In this problem, we'll give this up.  Build a multi-layer fully-connected neural network that takes the pixel values as input and yields a class prediction as output.\n",
    "\n",
    "**Hints:**\n",
    "- We found that adding more layers didn't help too much.\n",
    "- Watch out for overfitting.  Dropout can help with this.\n",
    "- The reference solution achieves an accuracy of about 44% on a training set and 41% on a test set."
   ]
  },
  {
   "cell_type": "code",
   "execution_count": null,
   "metadata": {},
   "outputs": [],
   "source": [
    "train_labels1 = tf.one_hot(train_labels, 10).numpy()"
   ]
  },
  {
   "cell_type": "code",
   "execution_count": null,
   "metadata": {
    "slideshow": null
   },
   "outputs": [],
   "source": [
    "class DenseNeuralNetwork():\n",
    "    def __init__(self, layer_shapes, eta=.1):\n",
    "        self.layers = [(\n",
    "            tf.Variable(tf.random.normal(shape)),\n",
    "            tf.Variable(tf.zeros(shape[1]))\n",
    "        ) for shape in layer_shapes]\n",
    "        self.opt = tf.keras.optimizers.SGD(learning_rate=eta)\n",
    "\n",
    "    def _logits(self, X):\n",
    "        _ = X\n",
    "        for W, b in self.layers[:-1]:\n",
    "            _ = tf.nn.sigmoid(tf.matmul(_, W) + b)\n",
    "        \n",
    "        W, b = self.layers[-1]\n",
    "        return tf.matmul(_, W) + b\n",
    "    \n",
    "    def loss(self, X, y, return_func=False):        \n",
    "        def loss_():\n",
    "            return tf.reduce_mean(tf.nn.sigmoid_cross_entropy_with_logits(\n",
    "                logits=self._logits(X), labels=y))\n",
    "        \n",
    "        if not return_func:\n",
    "            return loss_()\n",
    "        \n",
    "        return loss_\n",
    "    \n",
    "    def fit(self, X, y, steps=10):\n",
    "        for _ in range(steps):\n",
    "            self.opt.minimize(self.loss(X, y, return_func=True), [var for layer in self.layers for var in layer])\n",
    "    \n",
    "    def predict_proba(self, X):\n",
    "        return tf.nn.sigmoid(self._logits(X))\n",
    "        \n",
    "    def predict(self, X):\n",
    "        return tf.cast(self.predict_proba(X) > 0.5, dtype=tf.float32)\n",
    "    \n",
    "    def score(self, X, y):\n",
    "        return tf.reduce_mean(tf.cast(tf.equal(self.predict(X), y), dtype=tf.float32))"
   ]
  },
  {
   "cell_type": "code",
   "execution_count": null,
   "metadata": {},
   "outputs": [],
   "source": [
    "hidden_size = 2\n",
    "\n",
    "layers = [(2, hidden_size), (hidden_size, 1)]\n",
    "\n",
    "dnn = DenseNeuralNetwork(layers, eta=.5)\n",
    "\n",
    "for i in range(10):\n",
    "    dnn.fit(data, labels, 300)\n",
    "    print('Loss: {}'.format(dnn.loss(data, labels)))\n",
    "    print('Accuracy: {}'.format(dnn.score(data, labels)))"
   ]
  },
  {
   "cell_type": "code",
   "execution_count": 845,
   "metadata": {
    "slideshow": null
   },
   "outputs": [
    {
     "name": "stdout",
     "output_type": "stream",
     "text": [
      "==================\n",
      "Your score:  2.270380434782609\n",
      "==================\n"
     ]
    }
   ],
   "source": [
    "#predicted_classes = return [0]*len(validation_images)\n",
    "\n",
    "grader.score('tf__fully_connected', arr1)"
   ]
  },
  {
   "cell_type": "markdown",
   "metadata": {
    "slideshow": null
   },
   "source": [
    "## Convolutional model"
   ]
  },
  {
   "cell_type": "markdown",
   "metadata": {
    "slideshow": null
   },
   "source": [
    "Convolutional neural networks have had a lot of success in image classification.  Build a neural network with convolutional layers to improve the performance.\n",
    "\n",
    "**Hints:**\n",
    "- The reference solution uses two convolutional layers and two fully-connected layers.\n",
    "- We found success with the `AdamOptimizer`.\n",
    "- The reference solution achieves an accuracy of roughly 80% on a training set and 70% on a test set."
   ]
  },
  {
   "cell_type": "code",
   "execution_count": null,
   "metadata": {},
   "outputs": [],
   "source": [
    "import numpy as np\n",
    "import tensorflow as tf\n",
    "from tensorflow import keras\n",
    "\n",
    "import matplotlib.pyplot as plt\n",
    "\n",
    "import time\n",
    "from datetime import datetime, timedelta\n",
    "\n",
    "import pylib.conv_widget as cw\n",
    "from pylib.tensorboardcmd import tensorboard_cmd"
   ]
  },
  {
   "cell_type": "code",
   "execution_count": null,
   "metadata": {
    "slideshow": null
   },
   "outputs": [],
   "source": [
    "# Model parameters\n",
    "img_size = 32\n",
    "img_size_flat = img_size * img_size\n",
    "img_shape = (img_size, img_size)\n",
    "\n",
    "n_classes = 10\n",
    "n_channels = 1\n",
    "filt_size = [5, 5] # 5x5 pixel filters\n",
    "\n",
    "batch_size = 50\n",
    "n_epochs = 5\n",
    "\n",
    "model = keras.models.Sequential()\n",
    "\n",
    "model.add(keras.layers.Reshape([img_size, img_size, 3]))\n",
    "model.add(keras.layers.Conv2D(16, filt_size, padding='same',activation='relu'))\n",
    "\n",
    "model.add(keras.layers.MaxPooling2D(pool_size=(2, 2), strides=(2,2),padding='same'))\n",
    "\n",
    "model.add(keras.layers.Flatten())\n",
    "model.add(keras.layers.Dense(100, activation='relu'))"
   ]
  },
  {
   "cell_type": "code",
   "execution_count": null,
   "metadata": {},
   "outputs": [],
   "source": [
    "model.compile(loss='categorical_crossentropy',\n",
    "              optimizer=keras.optimizers.SGD(lr=0.1),\n",
    "              metrics=['accuracy'])\n",
    "\n",
    "history = model.fit(X_train, y_train,\n",
    "                    epochs=n_epochs,\n",
    "                    batch_size=batch_size,\n",
    "                    validation_data=(X_test,y_test))"
   ]
  },
  {
   "cell_type": "code",
   "execution_count": null,
   "metadata": {},
   "outputs": [],
   "source": [
    "def predict(idx):\n",
    "    image = np.array([X_test[idx]])\n",
    "    return np.argmax(model.predict(image))"
   ]
  },
  {
   "cell_type": "code",
   "execution_count": 846,
   "metadata": {
    "slideshow": null
   },
   "outputs": [
    {
     "name": "stdout",
     "output_type": "stream",
     "text": [
      "==================\n",
      "Your score:  1.0655188904830226\n",
      "==================\n"
     ]
    }
   ],
   "source": [
    "#predicted_classes = return [0]*len(validation_images)\n",
    "\n",
    "grader.score('tf__convolutional', arr1)"
   ]
  },
  {
   "cell_type": "markdown",
   "metadata": {
    "slideshow": null
   },
   "source": [
    "## Transfer learning"
   ]
  },
  {
   "cell_type": "markdown",
   "metadata": {
    "slideshow": null
   },
   "source": [
    "In transfer learning, we use a network trained on one data set to provide a starting point for the modeling of other data.  As we are trying to model color images, we should look for another network trained on color images.  Luckily, we have already discussed such a network: the Inception network used in the Deep Dream notebook.\n",
    "\n",
    "The following cell will load the model, omitting its classification layer (since we're not interested in classifying `ImageNet` images)."
   ]
  },
  {
   "cell_type": "code",
   "execution_count": null,
   "metadata": {
    "slideshow": null
   },
   "outputs": [],
   "source": [
    "# include_top=False will discard avg_pool before prediction layer\n",
    "inception = tf.keras.applications.inception_v3.InceptionV3(include_top=True, input_shape=(299, 299, 3))\n",
    "inception = tf.keras.Model([inception.input], [inception.layers[-2].output]) # manually discard prediction layer"
   ]
  },
  {
   "cell_type": "markdown",
   "metadata": {
    "slideshow": null
   },
   "source": [
    "In a transfer learning setup, we will use the first part of the trained network to process the original images, and then train a network to make predictions from the output of the trained network.  There are several ways to accomplish this.\n",
    "\n",
    "One approach is to connect the new layers to the output of the existing layers.  Data will flow through the pre-trained layers as well as those added.  In the training step, only the new layers should be marked as trainable.\n",
    "\n",
    "However, this can be a bit wasteful when multiple epochs of training will be undertaken since we recalculate the latent vectors on every training step.  With a smaller data set, such as this, it can be more efficient to pre-calculate the *latent vectors* that are the output of the pre-trained network.  These can be stored and used as input for training a smaller, separate network to make the predictions.  We recommend this approach for this miniproject.\n",
    "\n",
    "Images should be fed to the `inception` network and then vectorized (you might want to refer to the `TF_DeepDream.ipynb` notebook)."
   ]
  },
  {
   "cell_type": "markdown",
   "metadata": {
    "slideshow": null
   },
   "source": [
    "We've loaded the `inception` network with its native image shape: $299 \\times 299$.  This implies that we need to upscale our images from $32\\times32$ to $299\\times299$.  There are a number of ways to do this; the reference solution uses `tf.image.resize` with bilinear interpolation.  (More sophisticated resizing methods produce better results, but will take significantly longer!)\n",
    "\n",
    "It may make sense to do the rescaling and latent vector calculation at the same time, to avoid storing the (somewhat large) rescaled images unnecessarily.  You also probably want to save those latent vectors to disk, to avoid the need to repeat this calculation later.\n",
    "\n",
    "**Hints:**\n",
    "- Be sure to batch this calculation; resizing all 50,000 images at once will cause memory errors.\n",
    "- The latent vector calculation took us between 30 minutes and 2 hours on a single machine.  You might consider distributing the calculation.\n",
    "- The latent vectors for the first 10 images have an average of 1983 non-zero values and an overall average value of 0.319."
   ]
  },
  {
   "cell_type": "markdown",
   "metadata": {
    "slideshow": null
   },
   "source": [
    "With the latent vectors calculated, we can use them as input to train a small neural network to make the final predictions.\n",
    "\n",
    "**Hints:**\n",
    "- The reference solution has three layers.\n",
    "- The reference solution achieves a training accuracy of 87% and a test accuracy of 85%."
   ]
  },
  {
   "cell_type": "code",
   "execution_count": null,
   "metadata": {
    "slideshow": null
   },
   "outputs": [],
   "source": [
    "for batch in range(50):\n",
    "    train_subset = train_images[(batch * 1000):(batch + 1) * 1000]\n",
    "    list_to_save = []\n",
    "    for i in range(100):\n",
    "        ##Magic\n",
    "    arr_to_save = np.array(list_to_save)\n",
    "    np.save(f\"latent_cache/batch_{batch}\", arr_to_save)\n",
    "    print(batch)"
   ]
  },
  {
   "cell_type": "code",
   "execution_count": null,
   "metadata": {
    "slideshow": null
   },
   "outputs": [],
   "source": [
    "for batch in range(10):\n",
    "    val_subset = validation_images[(batch * 1000):(batch + 1) * 1000]\n",
    "    list_to_save = []\n",
    "    for i in range(100):\n",
    "        ##Magic\n",
    "    arr_to_save = np.array(list_to_save)\n",
    "    np.save(f\"latent_cache/val_batch_{batch}\", arr_to_save)\n",
    "    print(batch)"
   ]
  },
  {
   "cell_type": "code",
   "execution_count": null,
   "metadata": {
    "slideshow": null
   },
   "outputs": [],
   "source": []
  },
  {
   "cell_type": "code",
   "execution_count": 847,
   "metadata": {
    "slideshow": null
   },
   "outputs": [
    {
     "name": "stdout",
     "output_type": "stream",
     "text": [
      "==================\n",
      "Your score:  0.9029991894082681\n",
      "==================\n"
     ]
    }
   ],
   "source": [
    "#predicted_classes = return [0]*len(validation_images)\n",
    "\n",
    "grader.score('tf__transfer_learning', arr1)"
   ]
  },
  {
   "cell_type": "markdown",
   "metadata": {
    "slideshow": null
   },
   "source": [
    "*Copyright &copy; 2020 Pragmatic Institute. This content is licensed solely for personal use. Redistribution or publication of this material is strictly prohibited.*"
   ]
  }
 ],
 "metadata": {
  "kernelspec": {
   "display_name": "Python 3",
   "language": "python",
   "name": "python3"
  },
  "language_info": {
   "codemirror_mode": {
    "name": "ipython",
    "version": 3
   },
   "file_extension": ".py",
   "mimetype": "text/x-python",
   "name": "python",
   "nbconvert_exporter": "python",
   "pygments_lexer": "ipython3",
   "version": "3.7.4"
  },
  "nbclean": true
 },
 "nbformat": 4,
 "nbformat_minor": 4
}
